{
 "cells": [
  {
   "cell_type": "code",
   "execution_count": null,
   "metadata": {
    "executionInfo": {
     "elapsed": 3943,
     "status": "ok",
     "timestamp": 1659861068583,
     "user": {
      "displayName": "",
      "userId": "15116209109810384742"
     },
     "user_tz": -330
    },
    "id": "5Og4ANFpe9_0"
   },
   "outputs": [],
   "source": [
    "# import numpy as np\n",
    "import typing\n",
    "from typing import Any, Tuple\n",
    "import tensorflow as tf\n",
    "import tensorflow_text as tf_text\n",
    "\n",
    "import matplotlib.pyplot as plt\n",
    "import matplotlib.ticker as ticker"
   ]
  },
  {
   "cell_type": "code",
   "execution_count": 2,
   "metadata": {
    "executionInfo": {
     "elapsed": 95,
     "status": "ok",
     "timestamp": 1659861068606,
     "user": {
      "displayName": "",
      "userId": "15116209109810384742"
     },
     "user_tz": -330
    },
    "id": "JVfmK-_h5Q6B"
   },
   "outputs": [],
   "source": [
    "use_builtins = True"
   ]
  },
  {
   "cell_type": "code",
   "execution_count": 3,
   "metadata": {
    "executionInfo": {
     "elapsed": 94,
     "status": "ok",
     "timestamp": 1659861068611,
     "user": {
      "displayName": "",
      "userId": "15116209109810384742"
     },
     "user_tz": -330
    },
    "id": "vaHnvT-56O3n"
   },
   "outputs": [],
   "source": [
    "class ShapeChecker():\n",
    "  def __init__(self):\n",
    "    # Keep a cache of every axis-name seen\n",
    "    self.shapes = {}\n",
    "\n",
    "  def __call__(self, tensor, names, broadcast=False):\n",
    "    if not tf.executing_eagerly():\n",
    "      return\n",
    "  \n",
    "    if isinstance(names, str):\n",
    "      names = (names,)\n",
    "    \n",
    "    shape = tf.shape(tensor)\n",
    "    rank = tf.rank(tensor)\n",
    "\n",
    "    if rank != len(names):\n",
    "      raise ValueError(f'Rank mismatch:\\n'\n",
    "                      f'  found {rank}: {shape.numpy()}\\n'\n",
    "                      f'  expected {len(names)}: {names}\\n')\n",
    "\n",
    "    for i, name in enumerate(names):\n",
    "      if isinstance(name, int):\n",
    "        old_dim = name\n",
    "      else:\n",
    "        old_dim = self.shapes.get(name, None)\n",
    "      new_dim = shape[i]\n",
    "\n",
    "      if (broadcast and new_dim == 1):\n",
    "        continue\n",
    "\n",
    "      if old_dim is None:\n",
    "        # If the axis name is new, add its length to the cache.\n",
    "        self.shapes[name] = new_dim\n",
    "        continue\n",
    "\n",
    "      if new_dim != old_dim:\n",
    "        raise ValueError(f\"Shape mismatch for dimension: '{name}'\\n\"\n",
    "                        f\"  found: {new_dim}\\n\"\n",
    "                        f\"  expected: {old_dim}\\n\")                 "
   ]
  },
  {
   "cell_type": "code",
   "execution_count": 4,
   "metadata": {
    "executionInfo": {
     "elapsed": 95,
     "status": "ok",
     "timestamp": 1659861068617,
     "user": {
      "displayName": "",
      "userId": "15116209109810384742"
     },
     "user_tz": -330
    },
    "id": "sRUBnUe09QXz"
   },
   "outputs": [],
   "source": [
    "def load_path(path):\n",
    "  text = path.read_text(encoding='utf-8', errors='replace')\n",
    "\n",
    "  lines = text.splitlines()\n",
    "  pairs = [line.split('| $sep$ |') for line in lines]\n",
    "\n",
    "  comm = [comm for comm, targ in pairs]\n",
    "  reply = [reply for comm, reply in pairs]\n",
    "\n",
    "  return comm, reply"
   ]
  },
  {
   "cell_type": "code",
   "execution_count": 5,
   "metadata": {
    "executionInfo": {
     "elapsed": 1174,
     "status": "ok",
     "timestamp": 1659861069702,
     "user": {
      "displayName": "",
      "userId": "15116209109810384742"
     },
     "user_tz": -330
    },
    "id": "pK9MouPu_TvA"
   },
   "outputs": [],
   "source": [
    "import pathlib\n",
    "comm, reply = load_path(pathlib.Path('final.txt'))"
   ]
  },
  {
   "cell_type": "code",
   "execution_count": 6,
   "metadata": {
    "executionInfo": {
     "elapsed": 36,
     "status": "ok",
     "timestamp": 1659861069706,
     "user": {
      "displayName": "",
      "userId": "15116209109810384742"
     },
     "user_tz": -330
    },
    "id": "0kb4qje8LZ7u"
   },
   "outputs": [],
   "source": [
    "comm1, reply1 = [], []\n",
    "for (c, r) in zip(comm, reply):\n",
    "  if len(c)<=240 and len(r)<=240:\n",
    "    comm1.append(c)\n",
    "    reply1.append(r)"
   ]
  },
  {
   "cell_type": "code",
   "execution_count": 7,
   "metadata": {
    "executionInfo": {
     "elapsed": 34,
     "status": "ok",
     "timestamp": 1659861069709,
     "user": {
      "displayName": "",
      "userId": "15116209109810384742"
     },
     "user_tz": -330
    },
    "id": "BxhX1Bk7NCuq"
   },
   "outputs": [],
   "source": [
    "comm, reply = comm1, reply1"
   ]
  },
  {
   "cell_type": "code",
   "execution_count": 8,
   "metadata": {
    "executionInfo": {
     "elapsed": 991,
     "status": "ok",
     "timestamp": 1659861070669,
     "user": {
      "displayName": "",
      "userId": "15116209109810384742"
     },
     "user_tz": -330
    },
    "id": "MXfiYKQHNX6M"
   },
   "outputs": [],
   "source": [
    "BUFFER_SIZE = len(reply)\n",
    "BATCH_SIZE = 64\n",
    "\n",
    "dataset = tf.data.Dataset.from_tensor_slices((comm, reply)).shuffle(BUFFER_SIZE)\n",
    "dataset = dataset.batch(BATCH_SIZE)"
   ]
  },
  {
   "cell_type": "code",
   "execution_count": 9,
   "metadata": {
    "colab": {
     "base_uri": "https://localhost:8080/"
    },
    "executionInfo": {
     "elapsed": 35,
     "status": "ok",
     "timestamp": 1659861070673,
     "user": {
      "displayName": "",
      "userId": "15116209109810384742"
     },
     "user_tz": -330
    },
    "id": "2ysfabdtNal0",
    "outputId": "a22d949e-e3ba-4b9e-fad7-223aa89e9db3"
   },
   "outputs": [
    {
     "name": "stdout",
     "output_type": "stream",
     "text": [
      "tf.Tensor(\n",
      "[b\"I don't like the way you eat chips.\"\n",
      " b'Everyone else in the meeting:. Fuck, why does this guy from that irrelevant division keep asking questions and dragging out this meeting?'\n",
      " b'Dude how did you get a video of my son after I ask him to brush his teeth?'\n",
      " b\"Had the honor of being a casket bearer at John Lewis' funeral. What a moving experience.\"], shape=(4,), dtype=string)\n",
      "tf.Tensor(\n",
      "[b'You know how people hold up those signs saying \"if you\\'re looking for a reason not to kill yourself this is it\"?This is the opposite'\n",
      " b'\"Omg THAT guy again?\"'\n",
      " b'\"Can you put that down?\"*throws it across the fucking room'\n",
      " b'I walked past him at Reagan airport once. Didn\\'t realize it was him till I passed. I might have said out load \"holy shit that was John Lewis\". Or maybe it was just in my head. I wish I went back.'], shape=(4,), dtype=string)\n"
     ]
    }
   ],
   "source": [
    "for ex_c, ex_r in dataset.take(1):\n",
    "  print(ex_c[:4], end=\"\\n\")\n",
    "  print(ex_r[:4])  "
   ]
  },
  {
   "cell_type": "markdown",
   "metadata": {
    "id": "HNBghvWWOms-"
   },
   "source": [
    "# Text Preprocessing"
   ]
  },
  {
   "cell_type": "code",
   "execution_count": 10,
   "metadata": {
    "executionInfo": {
     "elapsed": 34,
     "status": "ok",
     "timestamp": 1659861070675,
     "user": {
      "displayName": "",
      "userId": "15116209109810384742"
     },
     "user_tz": -330
    },
    "id": "x5oH5b3-OHHy"
   },
   "outputs": [],
   "source": [
    "def tf_lower_and_split_punct(text):\n",
    "  text = tf.strings.lower(text)\n",
    "  # Keeping space, a to z, and select punctuation\n",
    "  text = tf.strings.regex_replace(text, '[^ a-z.?!,\\']', '')\n",
    "  # Add spaces around punctuation\n",
    "  text = tf.strings.regex_replace(text, '[.?!,\\']', r' \\0 ')\n",
    "  # Strip whitespace\n",
    "  text = tf.strings.strip(text)\n",
    "\n",
    "  text = tf.strings.join(['[START]', text, '[END]'], separator=' ')\n",
    "  return text"
   ]
  },
  {
   "cell_type": "code",
   "execution_count": 11,
   "metadata": {
    "colab": {
     "base_uri": "https://localhost:8080/"
    },
    "executionInfo": {
     "elapsed": 31,
     "status": "ok",
     "timestamp": 1659861070677,
     "user": {
      "displayName": "",
      "userId": "15116209109810384742"
     },
     "user_tz": -330
    },
    "id": "JhALsaujR_PZ",
    "outputId": "9b789ad2-5d70-4784-db3e-5e1f4b113f7e"
   },
   "outputs": [
    {
     "name": "stdout",
     "output_type": "stream",
     "text": [
      "tf.Tensor(b\"[START] hello world !   how ' s it going ? [END]\", shape=(), dtype=string)\n"
     ]
    }
   ],
   "source": [
    "print(tf_lower_and_split_punct(tf.constant('Hello world! \" How\\'s it going?').numpy().decode()))"
   ]
  },
  {
   "cell_type": "code",
   "execution_count": 12,
   "metadata": {
    "executionInfo": {
     "elapsed": 22,
     "status": "ok",
     "timestamp": 1659861070678,
     "user": {
      "displayName": "",
      "userId": "15116209109810384742"
     },
     "user_tz": -330
    },
    "id": "bhg8WfbxTOF5"
   },
   "outputs": [],
   "source": [
    "max_vocab_size = 5000\n",
    "\n",
    "input_text_processor = tf.keras.layers.TextVectorization(\n",
    "    standardize=tf_lower_and_split_punct,\n",
    "    max_tokens=max_vocab_size\n",
    ")"
   ]
  },
  {
   "cell_type": "code",
   "execution_count": 13,
   "metadata": {
    "executionInfo": {
     "elapsed": 21327,
     "status": "ok",
     "timestamp": 1659861091984,
     "user": {
      "displayName": "",
      "userId": "15116209109810384742"
     },
     "user_tz": -330
    },
    "id": "62RVQrzfUhQd"
   },
   "outputs": [],
   "source": [
    "input_text_processor.adapt(comm+reply)"
   ]
  },
  {
   "cell_type": "code",
   "execution_count": 14,
   "metadata": {
    "colab": {
     "base_uri": "https://localhost:8080/"
    },
    "executionInfo": {
     "elapsed": 12,
     "status": "ok",
     "timestamp": 1659861091986,
     "user": {
      "displayName": "",
      "userId": "15116209109810384742"
     },
     "user_tz": -330
    },
    "id": "hffEg03HUopj",
    "outputId": "5c3c1be5-fdc0-4802-ba9e-15be7e0e03d0"
   },
   "outputs": [
    {
     "data": {
      "text/plain": [
       "<tf.Tensor: shape=(3, 10), dtype=int64, numpy=\n",
       "array([[   3,    8,   53,    6,   20,   27,    5,  102,   16,  340],\n",
       "       [   3,  203,  258,   18,    5, 2038,    2,  147,    7,   80],\n",
       "       [   3,  183,   58,   87,   16,   61,    9,  165,   14,   29]],\n",
       "      dtype=int64)>"
      ]
     },
     "execution_count": 14,
     "metadata": {},
     "output_type": "execute_result"
    }
   ],
   "source": [
    "example_tokens = input_text_processor(ex_c)\n",
    "example_tokens[:3, :10]"
   ]
  },
  {
   "cell_type": "code",
   "execution_count": 15,
   "metadata": {
    "colab": {
     "base_uri": "https://localhost:8080/",
     "height": 53
    },
    "executionInfo": {
     "elapsed": 10,
     "status": "ok",
     "timestamp": 1659861091987,
     "user": {
      "displayName": "",
      "userId": "15116209109810384742"
     },
     "user_tz": -330
    },
    "id": "LK5cgfL-U51t",
    "outputId": "d1da95a4-5cb8-41e5-e846-f46d881ce4d9"
   },
   "outputs": [
    {
     "data": {
      "text/plain": [
       "\"[START] i don ' t like the way you eat chips . [END]                                        \""
      ]
     },
     "execution_count": 15,
     "metadata": {},
     "output_type": "execute_result"
    }
   ],
   "source": [
    "vocab = np.array(input_text_processor.get_vocabulary())\n",
    "tokens = vocab[example_tokens[0].numpy()]\n",
    "' '.join(tokens)"
   ]
  },
  {
   "cell_type": "code",
   "execution_count": 16,
   "metadata": {
    "colab": {
     "base_uri": "https://localhost:8080/",
     "height": 298
    },
    "executionInfo": {
     "elapsed": 970,
     "status": "ok",
     "timestamp": 1659861092949,
     "user": {
      "displayName": "",
      "userId": "15116209109810384742"
     },
     "user_tz": -330
    },
    "id": "ILd0lJdHWRXf",
    "outputId": "e1fce1fa-6b18-48e3-a0a5-ab23d569606e"
   },
   "outputs": [
    {
     "data": {
      "text/plain": [
       "Text(0.5, 1.0, 'Mask')"
      ]
     },
     "execution_count": 16,
     "metadata": {},
     "output_type": "execute_result"
    },
    {
     "data": {
      "image/png": "[encoded data removed]",
      "text/plain": [
       "<Figure size 432x288 with 2 Axes>"
      ]
     },
     "metadata": {
      "needs_background": "light"
     },
     "output_type": "display_data"
    }
   ],
   "source": [
    "plt.subplot(1, 2, 1)\n",
    "plt.pcolormesh(example_tokens)\n",
    "plt.title('Token IDs')\n",
    "\n",
    "plt.subplot(1, 2, 2)\n",
    "plt.pcolormesh(example_tokens != 0)\n",
    "plt.title('Mask')"
   ]
  },
  {
   "cell_type": "code",
   "execution_count": 17,
   "metadata": {
    "executionInfo": {
     "elapsed": 5,
     "status": "ok",
     "timestamp": 1659861092951,
     "user": {
      "displayName": "",
      "userId": "15116209109810384742"
     },
     "user_tz": -330
    },
    "id": "2qYMsKyZXpXN"
   },
   "outputs": [],
   "source": [
    "embedding_dim = 256\n",
    "units = 1024"
   ]
  },
  {
   "cell_type": "code",
   "execution_count": 18,
   "metadata": {
    "executionInfo": {
     "elapsed": 6,
     "status": "ok",
     "timestamp": 1659861092952,
     "user": {
      "displayName": "",
      "userId": "15116209109810384742"
     },
     "user_tz": -330
    },
    "id": "DFY2I16NYrFv"
   },
   "outputs": [],
   "source": [
    "class Encoder(tf.keras.layers.Layer):\n",
    "  def __init__(self, input_vocab_size, embedding_dim, enc_units):\n",
    "    super(Encoder, self).__init__()\n",
    "    self.enc_units = enc_units\n",
    "    self.input_vocab_size = input_vocab_size\n",
    "\n",
    "    # The embedding layer converts tokens to vectors\n",
    "    self.embedding = tf.keras.layers.Embedding(self.input_vocab_size, embedding_dim)\n",
    "\n",
    "    # The GRU RNN layer processes those vectors sequentially\n",
    "    self.gru = tf.keras.layers.GRU(self.enc_units,\n",
    "                                   # Return the sequence and state\n",
    "                                   return_sequences=True,\n",
    "                                   return_state=True,\n",
    "                                   recurrent_initializer='glorot_uniform')\n",
    "    \n",
    "  def call(self, tokens, state=None):\n",
    "    shape_checker = ShapeChecker()\n",
    "    shape_checker(tokens, ('batch', 's'))\n",
    "\n",
    "    # The embedding layers looks up the embedding for each token\n",
    "    vectors = self.embedding(tokens)\n",
    "    shape_checker(vectors, ('batch', 's', 'embed_dim'))\n",
    "\n",
    "    # The GRU processes the embedding sequence\n",
    "    output, state = self.gru(vectors, initial_state=state)\n",
    "    shape_checker(output, ('batch', 's', 'enc_units'))\n",
    "    shape_checker(state, ('batch', 'enc_units'))\n",
    "\n",
    "    # Returns the new sequence and its state\n",
    "    return output, state"
   ]
  },
  {
   "cell_type": "code",
   "execution_count": 19,
   "metadata": {
    "colab": {
     "base_uri": "https://localhost:8080/"
    },
    "executionInfo": {
     "elapsed": 1850,
     "status": "ok",
     "timestamp": 1659861094797,
     "user": {
      "displayName": "",
      "userId": "15116209109810384742"
     },
     "user_tz": -330
    },
    "id": "jGipJSsXbAlL",
    "outputId": "6023af6c-4fc7-47de-c974-e1abb65c1e29"
   },
   "outputs": [
    {
     "name": "stdout",
     "output_type": "stream",
     "text": [
      "Input batch, shape (batch): (64,)\n",
      "Input batch tokens, shape (batch, s): (64, 53)\n",
      "Encoder output, shape (batch, s, units): (64, 53, 1024)\n",
      "Encoder state, shape (batch, units): (64, 1024)\n"
     ]
    }
   ],
   "source": [
    "example_tokens = input_text_processor(ex_c)\n",
    "encoder = Encoder(input_text_processor.vocabulary_size(), embedding_dim, units)\n",
    "\n",
    "example_enc_output, example_enc_state = encoder(example_tokens)\n",
    "\n",
    "print(f'Input batch, shape (batch): {ex_c.shape}')\n",
    "print(f'Input batch tokens, shape (batch, s): {example_tokens.shape}')\n",
    "print(f'Encoder output, shape (batch, s, units): {example_enc_output.shape}')\n",
    "print(f'Encoder state, shape (batch, units): {example_enc_state.shape}')"
   ]
  },
  {
   "cell_type": "code",
   "execution_count": 20,
   "metadata": {
    "executionInfo": {
     "elapsed": 7,
     "status": "ok",
     "timestamp": 1659861094797,
     "user": {
      "displayName": "",
      "userId": "15116209109810384742"
     },
     "user_tz": -330
    },
    "id": "Cbs_V34ocZNi"
   },
   "outputs": [],
   "source": [
    "class BahdanauAttention(tf.keras.layers.Layer):\n",
    "  def __init__(self, units):\n",
    "    super().__init__()\n",
    "    self.W1 = tf.keras.layers.Dense(units, use_bias=False)\n",
    "    self.W2 = tf.keras.layers.Dense(units, use_bias=False)\n",
    "\n",
    "    self.attention = tf.keras.layers.AdditiveAttention()\n",
    "  \n",
    "  def call(self, query, value, mask):\n",
    "    shape_checker = ShapeChecker()\n",
    "    shape_checker(query, ('batch', 't', 'query_units'))\n",
    "    shape_checker(value, ('batch', 's', 'value_units'))\n",
    "    shape_checker(mask, ('batch', 's'))\n",
    "\n",
    "    # W1@ht\n",
    "    w1_query = self.W1(query)\n",
    "    shape_checker(w1_query, ('batch', 't', 'attn_units'))\n",
    "\n",
    "    # W2@hs\n",
    "    w2_key = self.W2(value)\n",
    "    shape_checker(w2_key, ('batch', 's', 'attn_units'))\n",
    "\n",
    "    query_mask = tf.ones(tf.shape(query)[:-1], dtype=bool)\n",
    "    value_mask = mask\n",
    "\n",
    "    context_vector, attention_weights = self.attention(\n",
    "        inputs = [w1_query, value, w2_key],\n",
    "        mask = [query_mask, value_mask],\n",
    "        return_attention_scores=True\n",
    "    )\n",
    "    shape_checker(context_vector, ('batch', 't', 'value_units'))\n",
    "    shape_checker(attention_weights, ('batch', 't', 's'))\n",
    "\n",
    "    return context_vector, attention_weights"
   ]
  },
  {
   "cell_type": "code",
   "execution_count": 21,
   "metadata": {
    "colab": {
     "base_uri": "https://localhost:8080/"
    },
    "executionInfo": {
     "elapsed": 8,
     "status": "ok",
     "timestamp": 1659861094799,
     "user": {
      "displayName": "",
      "userId": "15116209109810384742"
     },
     "user_tz": -330
    },
    "id": "xP0YKZNxl5bn",
    "outputId": "0e55e01c-06bd-4eac-e231-874e1cbb1842"
   },
   "outputs": [
    {
     "data": {
      "text/plain": [
       "TensorShape([64, 53])"
      ]
     },
     "execution_count": 21,
     "metadata": {},
     "output_type": "execute_result"
    }
   ],
   "source": [
    "attention_layer = BahdanauAttention(units)\n",
    "example_tokens.shape"
   ]
  },
  {
   "cell_type": "code",
   "execution_count": 22,
   "metadata": {
    "colab": {
     "base_uri": "https://localhost:8080/"
    },
    "executionInfo": {
     "elapsed": 571,
     "status": "ok",
     "timestamp": 1659861095364,
     "user": {
      "displayName": "",
      "userId": "15116209109810384742"
     },
     "user_tz": -330
    },
    "id": "rkI-Dh3IrdmQ",
    "outputId": "85d43cbb-fda3-4505-bf73-174799028b45"
   },
   "outputs": [
    {
     "name": "stdout",
     "output_type": "stream",
     "text": [
      "Attention result shape: (batch_size, query_seq_length, units):  (64, 2, 1024)\n",
      "Attention weights shape: (batch_size, query_seq_length, value_seq_length): (64, 2, 53)\n"
     ]
    }
   ],
   "source": [
    "example_attention_query = tf.random.normal(shape=[len(example_tokens), 2, 10])\n",
    "\n",
    "context_vector, attention_weights = attention_layer(\n",
    "    query=example_attention_query,\n",
    "    value=example_enc_output,\n",
    "    mask=(example_tokens != 0)\n",
    ")\n",
    "\n",
    "print(f'Attention result shape: (batch_size, query_seq_length, units):  {context_vector.shape}')\n",
    "print(f'Attention weights shape: (batch_size, query_seq_length, value_seq_length): {attention_weights.shape}')"
   ]
  },
  {
   "cell_type": "code",
   "execution_count": 23,
   "metadata": {
    "colab": {
     "base_uri": "https://localhost:8080/",
     "height": 298
    },
    "executionInfo": {
     "elapsed": 1195,
     "status": "ok",
     "timestamp": 1659861096555,
     "user": {
      "displayName": "",
      "userId": "15116209109810384742"
     },
     "user_tz": -330
    },
    "id": "w6owRPPjsVlJ",
    "outputId": "9e520878-755a-47ed-ef3f-7b04a38bec2c"
   },
   "outputs": [
    {
     "data": {
      "text/plain": [
       "Text(0.5, 1.0, 'Mask')"
      ]
     },
     "execution_count": 23,
     "metadata": {},
     "output_type": "execute_result"
    },
    {
     "data": {
      "image/png": "[encoded data removed]",
      "text/plain": [
       "<Figure size 432x288 with 2 Axes>"
      ]
     },
     "metadata": {
      "needs_background": "light"
     },
     "output_type": "display_data"
    }
   ],
   "source": [
    "plt.subplot(1, 2, 1)\n",
    "plt.pcolormesh(attention_weights[:, 0, :])\n",
    "plt.title('Attention weights')\n",
    "\n",
    "plt.subplot(1, 2, 2)\n",
    "plt.pcolormesh(example_tokens != 0)\n",
    "plt.title('Mask')"
   ]
  },
  {
   "cell_type": "code",
   "execution_count": 24,
   "metadata": {
    "executionInfo": {
     "elapsed": 7,
     "status": "ok",
     "timestamp": 1659861096555,
     "user": {
      "displayName": "",
      "userId": "15116209109810384742"
     },
     "user_tz": -330
    },
    "id": "HcPhwRsutp2F"
   },
   "outputs": [],
   "source": [
    "attention_slice = attention_weights[0, 0].numpy()\n",
    "attention_slice = attention_slice[attention_slice != 0]"
   ]
  },
  {
   "cell_type": "code",
   "execution_count": 25,
   "metadata": {
    "colab": {
     "base_uri": "https://localhost:8080/",
     "height": 423
    },
    "executionInfo": {
     "elapsed": 998,
     "status": "ok",
     "timestamp": 1659861097547,
     "user": {
      "displayName": "",
      "userId": "15116209109810384742"
     },
     "user_tz": -330
    },
    "id": "kpnTXIQwvcnj",
    "outputId": "a12ba40c-12ce-4c3a-bfb0-794ed38a1d5f"
   },
   "outputs": [
    {
     "data": {
      "text/plain": [
       "[<matplotlib.lines.Line2D at 0x1d429cf7b80>]"
      ]
     },
     "execution_count": 25,
     "metadata": {},
     "output_type": "execute_result"
    },
    {
     "data": {
      "text/plain": [
       "<Figure size 432x288 with 0 Axes>"
      ]
     },
     "metadata": {},
     "output_type": "display_data"
    },
    {
     "data": {
      "image/png": "[encoded data removed]",
      "text/plain": [
       "<Figure size 864x432 with 2 Axes>"
      ]
     },
     "metadata": {
      "needs_background": "light"
     },
     "output_type": "display_data"
    }
   ],
   "source": [
    "plt.suptitle('Attention weights for one sequence')\n",
    "\n",
    "plt.figure(figsize=(12, 6))\n",
    "a1 = plt.subplot(1, 2, 1)\n",
    "plt.bar(range(len(attention_slice)), attention_slice)\n",
    "# freeze the xlim\n",
    "plt.xlim(plt.xlim())\n",
    "plt.xlabel('Attention weights')\n",
    "\n",
    "a2 = plt.subplot(1, 2, 2)\n",
    "plt.bar(range(len(attention_slice)), attention_slice)\n",
    "plt.xlabel('Attention weights, zoomed')\n",
    "\n",
    "# zoom in\n",
    "top = max(a1.get_ylim())\n",
    "zoom = 0.85*top\n",
    "a2.set_ylim([0.90*top, top])\n",
    "a1.plot(a1.get_xlim(), [zoom, zoom], color='k')"
   ]
  },
  {
   "cell_type": "code",
   "execution_count": 26,
   "metadata": {
    "executionInfo": {
     "elapsed": 10,
     "status": "ok",
     "timestamp": 1659861098039,
     "user": {
      "displayName": "",
      "userId": "15116209109810384742"
     },
     "user_tz": -330
    },
    "id": "gFj_PahAwZY0"
   },
   "outputs": [],
   "source": [
    "class DecoderInput(typing.NamedTuple):\n",
    "  new_tokens: Any\n",
    "  enc_output: Any\n",
    "  mask: Any\n",
    "  \n",
    "class DecoderOutput(typing.NamedTuple):\n",
    "  logits: Any\n",
    "  attention_weights: Any\n",
    "\n",
    "class Decoder(tf.keras.layers.Layer):\n",
    "  def __init__(self, output_vocab_size, embedding_dim, dec_units):\n",
    "    super(Decoder, self).__init__()\n",
    "    self.dec_units = dec_units\n",
    "    self.output_vocab_size = output_vocab_size\n",
    "    self.embedding_dim = embedding_dim\n",
    "\n",
    "\n",
    "    # Convert token IDs to vectors\n",
    "    self.embedding = tf.keras.layers.Embedding(self.output_vocab_size, \n",
    "                                               embedding_dim)\n",
    "    \n",
    "    # RNN keeps tracks of what's been generates so far\n",
    "    self.gru = tf.keras.layers.GRU(self.dec_units,\n",
    "                                   return_sequences=True,\n",
    "                                   return_state=True,\n",
    "                                   recurrent_initializer='glorot_uniform')\n",
    "    \n",
    "    # RNN outputs query for the attention layer\n",
    "    self.attention = BahdanauAttention(self.dec_units)\n",
    "\n",
    "    # Converting 'ct' to 'at'\n",
    "    self.Wc = tf.keras.layers.Dense(dec_units, activation=tf.math.tanh,\n",
    "                                    use_bias=False)\n",
    "    \n",
    "    # Fully connected layer produces the logits for each output token\n",
    "    self.fc = tf.keras.layers.Dense(self.output_vocab_size)\n",
    "  \n",
    "  def call(self,\n",
    "            inputs: DecoderInput,\n",
    "            state=None) -> Tuple[DecoderOutput, tf.Tensor]:\n",
    "    shape_checker = ShapeChecker()\n",
    "    shape_checker(inputs.new_tokens, ('batch', 't'))\n",
    "    shape_checker(inputs.enc_output, ('batch', 's', 'enc_units'))\n",
    "    shape_checker(inputs.mask, ('batch', 's'))\n",
    "\n",
    "    if state is None:\n",
    "      shape_checker(state, ('batch', 'dec_units'))\n",
    "    \n",
    "    # Look up the embeddings\n",
    "    vectors = self.embedding(inputs.new_tokens)\n",
    "    shape_checker(vectors, ('batch', 't', 'embedding_dim'))\n",
    "\n",
    "    # Process one step with the RNN\n",
    "    rnn_output, state = self.gru(vectors, initial_state=state)\n",
    "\n",
    "    shape_checker(rnn_output, ('batch', 't', 'dec_units'))\n",
    "    shape_checker(state, ('batch', 'dec_units'))\n",
    "\n",
    "    # Use the RNN output as the query for the attention over the encoder output\n",
    "    context_vector, attention_weights = self.attention(\n",
    "        query=rnn_output, value=inputs.enc_output, mask=inputs.mask\n",
    "    )\n",
    "    shape_checker(context_vector, ('batch', 't', 'dec_units'))\n",
    "    shape_checker(attention_weights, ('batch', 't', 's'))\n",
    "\n",
    "    # Join the context_vector and rnn_output\n",
    "    context_and_rnn_output = tf.concat([context_vector, rnn_output], axis=-1)\n",
    "\n",
    "    # `at = tanh(Wc@[ct; ht])\n",
    "    attention_vector = self.Wc(context_and_rnn_output)\n",
    "    shape_checker(attention_vector, ('batch', 't', 'dec_units'))\n",
    "\n",
    "    # Generate the logit predictions\n",
    "    logits = self.fc(attention_vector)\n",
    "    shape_checker(logits, ('batch', 't', 'output_vocab_size'))\n",
    "\n",
    "    return DecoderOutput(logits, attention_weights), state"
   ]
  },
  {
   "cell_type": "code",
   "execution_count": 27,
   "metadata": {
    "executionInfo": {
     "elapsed": 10,
     "status": "ok",
     "timestamp": 1659861098040,
     "user": {
      "displayName": "",
      "userId": "15116209109810384742"
     },
     "user_tz": -330
    },
    "id": "TriMVeOjqRoq"
   },
   "outputs": [],
   "source": [
    "decoder = Decoder(input_text_processor.vocabulary_size(), embedding_dim, units)"
   ]
  },
  {
   "cell_type": "code",
   "execution_count": 28,
   "metadata": {
    "executionInfo": {
     "elapsed": 10,
     "status": "ok",
     "timestamp": 1659861098041,
     "user": {
      "displayName": "",
      "userId": "15116209109810384742"
     },
     "user_tz": -330
    },
    "id": "c76zrGhAyFMW"
   },
   "outputs": [],
   "source": [
    "example_output_tokens = input_text_processor(ex_r)\n",
    "\n",
    "start_index = input_text_processor.get_vocabulary().index('[START]')\n",
    "first_token = tf.constant([[start_index]] * ex_r.shape[0])"
   ]
  },
  {
   "cell_type": "code",
   "execution_count": 29,
   "metadata": {
    "colab": {
     "base_uri": "https://localhost:8080/"
    },
    "executionInfo": {
     "elapsed": 463,
     "status": "ok",
     "timestamp": 1659861098494,
     "user": {
      "displayName": "",
      "userId": "15116209109810384742"
     },
     "user_tz": -330
    },
    "id": "CcF9UxCg1ZUR",
    "outputId": "8b1e096d-2be7-482c-9e5d-11fc457f814c"
   },
   "outputs": [
    {
     "name": "stdout",
     "output_type": "stream",
     "text": [
      "logits shape: (batch_size, t, output_vocab_size) (64, 1, 5000)\n",
      "state shape: (batch_size, dec_units) (64, 1024)\n"
     ]
    }
   ],
   "source": [
    "dec_result, dec_state = decoder(\n",
    "    inputs = DecoderInput(new_tokens=first_token,\n",
    "                          enc_output=example_enc_output,\n",
    "                          mask=(example_tokens != 0)),\n",
    "    state = example_enc_state\n",
    ")\n",
    "\n",
    "print(f'logits shape: (batch_size, t, output_vocab_size) {dec_result.logits.shape}')\n",
    "print(f'state shape: (batch_size, dec_units) {dec_state.shape}')"
   ]
  },
  {
   "cell_type": "code",
   "execution_count": 30,
   "metadata": {
    "executionInfo": {
     "elapsed": 13,
     "status": "ok",
     "timestamp": 1659861098495,
     "user": {
      "displayName": "",
      "userId": "15116209109810384742"
     },
     "user_tz": -330
    },
    "id": "7qYPCnYp1qE-"
   },
   "outputs": [],
   "source": [
    "sampled_token = tf.random.categorical(dec_result.logits[:, 0, :], num_samples=1)"
   ]
  },
  {
   "cell_type": "code",
   "execution_count": 31,
   "metadata": {
    "colab": {
     "base_uri": "https://localhost:8080/"
    },
    "executionInfo": {
     "elapsed": 12,
     "status": "ok",
     "timestamp": 1659861098495,
     "user": {
      "displayName": "",
      "userId": "15116209109810384742"
     },
     "user_tz": -330
    },
    "id": "eIBoAppLCLc_",
    "outputId": "50e6cea6-e024-4893-c40b-752625492fcc"
   },
   "outputs": [
    {
     "data": {
      "text/plain": [
       "array([['versus'],\n",
       "       ['artist'],\n",
       "       ['harry'],\n",
       "       ['loves'],\n",
       "       ['month']], dtype='<U22')"
      ]
     },
     "execution_count": 31,
     "metadata": {},
     "output_type": "execute_result"
    }
   ],
   "source": [
    "vocab = np.array(input_text_processor.get_vocabulary())\n",
    "first_word = vocab[sampled_token.numpy()]\n",
    "first_word[:5]"
   ]
  },
  {
   "cell_type": "code",
   "execution_count": 32,
   "metadata": {
    "executionInfo": {
     "elapsed": 484,
     "status": "ok",
     "timestamp": 1659861098971,
     "user": {
      "displayName": "",
      "userId": "15116209109810384742"
     },
     "user_tz": -330
    },
    "id": "gLpYRn1qD6oe"
   },
   "outputs": [],
   "source": [
    "dec_result, dec_state = decoder(\n",
    "    DecoderInput(sampled_token,\n",
    "                 example_enc_output,\n",
    "                 mask=(example_tokens != 0)),\n",
    "    state=dec_state\n",
    ")"
   ]
  },
  {
   "cell_type": "code",
   "execution_count": 33,
   "metadata": {
    "colab": {
     "base_uri": "https://localhost:8080/"
    },
    "executionInfo": {
     "elapsed": 10,
     "status": "ok",
     "timestamp": 1659861098971,
     "user": {
      "displayName": "",
      "userId": "15116209109810384742"
     },
     "user_tz": -330
    },
    "id": "R3Vrm7HfExGr",
    "outputId": "a25bf4f4-05da-446d-b18d-c569f451f403"
   },
   "outputs": [
    {
     "data": {
      "text/plain": [
       "array([['digits'],\n",
       "       ['tattoos'],\n",
       "       ['pics'],\n",
       "       ['personal'],\n",
       "       ['idiot']], dtype='<U22')"
      ]
     },
     "execution_count": 33,
     "metadata": {},
     "output_type": "execute_result"
    }
   ],
   "source": [
    "sampled_token = tf.random.categorical(dec_result.logits[:, 0, :], num_samples=1)\n",
    "first_word = vocab[sampled_token.numpy()]\n",
    "first_word[:5]"
   ]
  },
  {
   "cell_type": "code",
   "execution_count": 34,
   "metadata": {
    "executionInfo": {
     "elapsed": 9,
     "status": "ok",
     "timestamp": 1659861098972,
     "user": {
      "displayName": "",
      "userId": "15116209109810384742"
     },
     "user_tz": -330
    },
    "id": "GKoaJPl4FinI"
   },
   "outputs": [],
   "source": [
    "class MaskedLoss(tf.keras.losses.Loss):\n",
    "  def __init__(self):\n",
    "    self.name = 'masked_loss'\n",
    "    self.loss = tf.keras.losses.SparseCategoricalCrossentropy(\n",
    "        from_logits=True, reduction='none'\n",
    "    )\n",
    "\n",
    "  def __call__(self, y_true, y_pred):\n",
    "    shape_checker = ShapeChecker()\n",
    "    shape_checker(y_true, ('batch', 't'))\n",
    "    shape_checker(y_pred, ('batch', 't', 'logits'))\n",
    "\n",
    "    # Calculate the loss for each item in the batch\n",
    "    loss = self.loss(y_true, y_pred)\n",
    "    shape_checker(loss, ('batch', 't'))\n",
    "\n",
    "    # Mask off the losses on padding\n",
    "    mask = tf.cast(y_true != 0, tf.float32)\n",
    "    shape_checker(mask, ('batch', 't'))\n",
    "    loss *= mask\n",
    "\n",
    "    # Return the total\n",
    "    return tf.reduce_sum(loss)"
   ]
  },
  {
   "cell_type": "code",
   "execution_count": 35,
   "metadata": {
    "executionInfo": {
     "elapsed": 457,
     "status": "ok",
     "timestamp": 1659865736148,
     "user": {
      "displayName": "",
      "userId": "15116209109810384742"
     },
     "user_tz": -330
    },
    "id": "LDKyYL6E4QEB"
   },
   "outputs": [],
   "source": [
    "class TrainReplyer(tf.keras.Model):\n",
    "  def __init__(self, embedding_dim, units, \n",
    "               input_text_processor, \n",
    "               use_tf_function=True):\n",
    "    super().__init__()\n",
    "    # Build the encoder and decoder\n",
    "    encoder = Encoder(input_text_processor.vocabulary_size(), \n",
    "                      embedding_dim, units)\n",
    "    decoder = Decoder(input_text_processor.vocabulary_size(), \n",
    "                      embedding_dim, units)\n",
    "\n",
    "    self.encoder = encoder\n",
    "    self.decoder = decoder\n",
    "    self.input_text_processor = input_text_processor\n",
    "    self.use_tf_function = use_tf_function\n",
    "    self.shape_checker = ShapeChecker()\n",
    "\n",
    "  def train_step(self, inputs):\n",
    "    self.shape_checker = ShapeChecker()\n",
    "    if self.use_tf_function:\n",
    "      return self._tf_train_step(inputs)\n",
    "    else:\n",
    "      return self._train_step(inputs)"
   ]
  },
  {
   "cell_type": "code",
   "execution_count": 36,
   "metadata": {
    "executionInfo": {
     "elapsed": 3,
     "status": "ok",
     "timestamp": 1659865741687,
     "user": {
      "displayName": "",
      "userId": "15116209109810384742"
     },
     "user_tz": -330
    },
    "id": "FUfSVfNMfBhu"
   },
   "outputs": [],
   "source": [
    "def _preprocess(self, input_text, target_text):\n",
    "  self.shape_checker(input_text, ('batch',))\n",
    "  self.shape_checker(target_text, ('batch',))\n",
    "\n",
    "  # Convert the text to token IDs\n",
    "  input_tokens = self.input_text_processor(input_text)\n",
    "  target_tokens = self.input_text_processor(target_text)\n",
    "  self.shape_checker(input_tokens, ('batch', 's'))\n",
    "  self.shape_checker(target_tokens, ('batch', 't'))\n",
    "\n",
    "  # Convert IDs to masks\n",
    "  input_mask = input_tokens != 0\n",
    "  self.shape_checker(input_mask, ('batch', 's'))\n",
    "\n",
    "  target_mask = target_tokens != 0\n",
    "  self.shape_checker(target_mask, ('batch', 't'))\n",
    "\n",
    "  return input_tokens, input_mask, target_tokens, target_mask"
   ]
  },
  {
   "cell_type": "code",
   "execution_count": 37,
   "metadata": {
    "executionInfo": {
     "elapsed": 2,
     "status": "ok",
     "timestamp": 1659865741687,
     "user": {
      "displayName": "",
      "userId": "15116209109810384742"
     },
     "user_tz": -330
    },
    "id": "KagMGizYhwIP"
   },
   "outputs": [],
   "source": [
    "TrainReplyer._preprocess= _preprocess"
   ]
  },
  {
   "cell_type": "code",
   "execution_count": 38,
   "metadata": {
    "executionInfo": {
     "elapsed": 412,
     "status": "ok",
     "timestamp": 1659866317375,
     "user": {
      "displayName": "",
      "userId": "15116209109810384742"
     },
     "user_tz": -330
    },
    "id": "Ob7yB6g-hzzq"
   },
   "outputs": [],
   "source": [
    "def _train_step(self, inputs):\n",
    "  input_text, target_text = inputs\n",
    "  (input_tokens, input_mask,\n",
    "   target_tokens, target_mask) = self._preprocess(input_text, target_text)\n",
    "\n",
    "  max_target_length = tf.shape(target_tokens)[1]\n",
    "\n",
    "  with tf.GradientTape() as tape:\n",
    "    # Ecnode the input\n",
    "    enc_output, enc_state = self.encoder(input_tokens)\n",
    "    self.shape_checker(enc_output, ('batch', 's', 'enc_units'))\n",
    "    self.shape_checker(enc_state, ('batch', 'enc_units'))\n",
    "\n",
    "    # Initialize the decoder's state tot the encoder's final state\n",
    "    # This only works if the encoder and decoder have the same number of units\n",
    "    dec_state = enc_state\n",
    "    loss = tf.constant(0.0)\n",
    "\n",
    "    for t in tf.range(max_target_length-1):\n",
    "      # Pass in two tokens from the target sequene\n",
    "      # 1. The current input to the decoder\n",
    "      # 2. The target for the decoder's next prediction\n",
    "      new_tokens = target_tokens[:, t:t+2]\n",
    "      step_loss, dec_state = self._loop_step(new_tokens, input_mask, \n",
    "      enc_output, dec_state)\n",
    "\n",
    "      loss = loss + step_loss\n",
    "    \n",
    "    # Average the loss over all non padding tokens\n",
    "    average_loss = loss / tf.reduce_sum(tf.cast(target_mask, tf.float32))\n",
    "\n",
    "  # Apply an optimization step\n",
    "  variables = self.trainable_variables\n",
    "  gradients = tape.gradient(average_loss, variables)\n",
    "  self.optimizer.apply_gradients(zip(gradients, variables))\n",
    "\n",
    "  # Return a dict mapping metric names to current value\n",
    "  return {'batch_loss': average_loss}"
   ]
  },
  {
   "cell_type": "code",
   "execution_count": 39,
   "metadata": {
    "executionInfo": {
     "elapsed": 2,
     "status": "ok",
     "timestamp": 1659866319025,
     "user": {
      "displayName": "",
      "userId": "15116209109810384742"
     },
     "user_tz": -330
    },
    "id": "FxR7541vlqWA"
   },
   "outputs": [],
   "source": [
    "TrainReplyer._train_step = _train_step"
   ]
  },
  {
   "cell_type": "code",
   "execution_count": 40,
   "metadata": {
    "executionInfo": {
     "elapsed": 3,
     "status": "ok",
     "timestamp": 1659866699926,
     "user": {
      "displayName": "",
      "userId": "15116209109810384742"
     },
     "user_tz": -330
    },
    "id": "6iKV4wEBmBzh"
   },
   "outputs": [],
   "source": [
    "def _loop_step(self, new_tokens, input_mask, enc_output, dec_state):\n",
    "  input_token, target_token = new_tokens[:, 0:1], new_tokens[:, 1:2]\n",
    "\n",
    "  # Run the decoder one step\n",
    "  decoder_input = DecoderInput(new_tokens=input_token,\n",
    "                               enc_output=enc_output,\n",
    "                               mask=input_mask)\n",
    "  \n",
    "  dec_result, dec_state = self.decoder(decoder_input, state=dec_state)\n",
    "  self.shape_checker(dec_result.logits, ('batch', 't1', 'logits'))\n",
    "  self.shape_checker(dec_result.attention_weights, ('batch', 't1', 's'))\n",
    "  self.shape_checker(dec_state, ('batch', 'dec_units'))\n",
    "\n",
    "  # `self.loss` returns the total for non-padded tokens\n",
    "  y = target_token\n",
    "  y_pred = dec_result.logits\n",
    "  step_loss = self.loss(y, y_pred)\n",
    "  \n",
    "  return step_loss, dec_state"
   ]
  },
  {
   "cell_type": "code",
   "execution_count": 41,
   "metadata": {
    "executionInfo": {
     "elapsed": 3,
     "status": "ok",
     "timestamp": 1659866701582,
     "user": {
      "displayName": "",
      "userId": "15116209109810384742"
     },
     "user_tz": -330
    },
    "id": "JcMBJ0H1ohXx"
   },
   "outputs": [],
   "source": [
    "TrainReplyer._loop_step = _loop_step"
   ]
  },
  {
   "cell_type": "code",
   "execution_count": 42,
   "metadata": {
    "executionInfo": {
     "elapsed": 2,
     "status": "ok",
     "timestamp": 1659866701582,
     "user": {
      "displayName": "",
      "userId": "15116209109810384742"
     },
     "user_tz": -330
    },
    "id": "of8kxA7OokQX"
   },
   "outputs": [],
   "source": [
    "replyer = TrainReplyer(\n",
    "    embedding_dim, units,\n",
    "    input_text_processor=input_text_processor,\n",
    "    use_tf_function=False\n",
    ")\n",
    "\n",
    "# Configure the loss and optimizer\n",
    "replyer.compile(\n",
    "    optimizer=tf.optimizers.Adam(),\n",
    "    loss=MaskedLoss()\n",
    ")"
   ]
  },
  {
   "cell_type": "code",
   "execution_count": 43,
   "metadata": {
    "colab": {
     "base_uri": "https://localhost:8080/"
    },
    "executionInfo": {
     "elapsed": 2,
     "status": "ok",
     "timestamp": 1659866702242,
     "user": {
      "displayName": "",
      "userId": "15116209109810384742"
     },
     "user_tz": -330
    },
    "id": "SIrpD-lfpEqB",
    "outputId": "440e8ed0-521b-4acb-9562-454a8536ec85"
   },
   "outputs": [
    {
     "data": {
      "text/plain": [
       "8.517193191416238"
      ]
     },
     "execution_count": 43,
     "metadata": {},
     "output_type": "execute_result"
    }
   ],
   "source": [
    "np.log(input_text_processor.vocabulary_size())"
   ]
  },
  {
   "cell_type": "code",
   "execution_count": 110,
   "metadata": {
    "colab": {
     "base_uri": "https://localhost:8080/"
    },
    "executionInfo": {
     "elapsed": 442103,
     "status": "ok",
     "timestamp": 1659867145410,
     "user": {
      "displayName": "",
      "userId": "15116209109810384742"
     },
     "user_tz": -330
    },
    "id": "jdjsT0o8pIab",
    "outputId": "656b895e-3fef-453f-b944-b81cde62c9cb"
   },
   "outputs": [
    {
     "name": "stdout",
     "output_type": "stream",
     "text": [
      "{'batch_loss': <tf.Tensor: shape=(), dtype=float32, numpy=8.037883>}\n",
      "{'batch_loss': <tf.Tensor: shape=(), dtype=float32, numpy=8.018327>}\n",
      "{'batch_loss': <tf.Tensor: shape=(), dtype=float32, numpy=7.980712>}\n",
      "{'batch_loss': <tf.Tensor: shape=(), dtype=float32, numpy=7.8661947>}\n",
      "{'batch_loss': <tf.Tensor: shape=(), dtype=float32, numpy=7.387904>}\n",
      "{'batch_loss': <tf.Tensor: shape=(), dtype=float32, numpy=5.7483335>}\n",
      "{'batch_loss': <tf.Tensor: shape=(), dtype=float32, numpy=5.1744137>}\n",
      "{'batch_loss': <tf.Tensor: shape=(), dtype=float32, numpy=4.8684845>}\n",
      "{'batch_loss': <tf.Tensor: shape=(), dtype=float32, numpy=4.8246694>}\n",
      "{'batch_loss': <tf.Tensor: shape=(), dtype=float32, numpy=4.865206>}\n",
      "\n"
     ]
    }
   ],
   "source": [
    "for n in range(10):\n",
    "  print(replyer.train_step([ex_c, ex_r]))\n",
    "print()"
   ]
  },
  {
   "cell_type": "code",
   "execution_count": 44,
   "metadata": {
    "executionInfo": {
     "elapsed": 2,
     "status": "ok",
     "timestamp": 1659872957080,
     "user": {
      "displayName": "",
      "userId": "15116209109810384742"
     },
     "user_tz": -330
    },
    "id": "3Yb14dWdIc-d"
   },
   "outputs": [],
   "source": [
    "@tf.function(input_signature=[[tf.TensorSpec(dtype=tf.string, shape=[None]),\n",
    "                               tf.TensorSpec(dtype=tf.string, shape=[None])]])\n",
    "\n",
    "def _tf_train_step(self, inputs):\n",
    "  return self._train_step(inputs)"
   ]
  },
  {
   "cell_type": "code",
   "execution_count": 45,
   "metadata": {
    "executionInfo": {
     "elapsed": 2,
     "status": "ok",
     "timestamp": 1659873028494,
     "user": {
      "displayName": "",
      "userId": "15116209109810384742"
     },
     "user_tz": -330
    },
    "id": "nmuwmpXIJAFV"
   },
   "outputs": [],
   "source": [
    "TrainReplyer._tf_train_step = _tf_train_step"
   ]
  },
  {
   "cell_type": "code",
   "execution_count": 46,
   "metadata": {
    "executionInfo": {
     "elapsed": 2,
     "status": "ok",
     "timestamp": 1659873030542,
     "user": {
      "displayName": "",
      "userId": "15116209109810384742"
     },
     "user_tz": -330
    },
    "id": "j2ncXl2Cys2b"
   },
   "outputs": [],
   "source": [
    "train_replyer = TrainReplyer(\n",
    "    embedding_dim, units,\n",
    "    input_text_processor=input_text_processor\n",
    ")\n",
    "\n",
    "# Configure the loss and optimizer\n",
    "train_replyer.compile(\n",
    "    optimizer=tf.optimizers.Adam(),\n",
    "    loss=MaskedLoss()\n",
    ")"
   ]
  },
  {
   "cell_type": "code",
   "execution_count": 47,
   "metadata": {
    "executionInfo": {
     "elapsed": 2,
     "status": "ok",
     "timestamp": 1659873032385,
     "user": {
      "displayName": "",
      "userId": "15116209109810384742"
     },
     "user_tz": -330
    },
    "id": "bZ7h9ps16lJJ"
   },
   "outputs": [],
   "source": [
    "class BatchLogs(tf.keras.callbacks.Callback):\n",
    "  def __init__(self, key):\n",
    "    self.key = key\n",
    "    self.logs = []\n",
    "\n",
    "  def on_train_batch_end(self, n, logs):\n",
    "    self.logs.append(logs[self.key])\n",
    "\n",
    "batch_loss = BatchLogs('batch_loss')"
   ]
  },
  {
   "cell_type": "code",
   "execution_count": 49,
   "metadata": {
    "colab": {
     "base_uri": "https://localhost:8080/"
    },
    "id": "GppWkxC26--p",
    "outputId": "1017f7c5-df74-4486-e39e-2d7178c89de1"
   },
   "outputs": [
    {
     "name": "stdout",
     "output_type": "stream",
     "text": [
      "Epoch 1/3\n",
      "1137/1137 [==============================] - 17695s 16s/step - batch_loss: 4.4557\n",
      "Epoch 2/3\n",
      "1137/1137 [==============================] - 19906s 18s/step - batch_loss: 4.0536\n",
      "Epoch 3/3\n",
      "1137/1137 [==============================] - 14048s 12s/step - batch_loss: 3.8494\n"
     ]
    },
    {
     "data": {
      "text/plain": [
       "<keras.callbacks.History at 0x1d429d5beb0>"
      ]
     },
     "execution_count": 49,
     "metadata": {},
     "output_type": "execute_result"
    }
   ],
   "source": [
    "train_replyer.fit(dataset, epochs=3,\n",
    "                  callbacks=[batch_loss])"
   ]
  },
  {
   "cell_type": "code",
   "execution_count": 57,
   "metadata": {},
   "outputs": [],
   "source": [
    "import os\n",
    "train_replyer.save_weights(os.getcwd()+'/models2/replyer_checkpoint')"
   ]
  },
  {
   "cell_type": "code",
   "execution_count": 62,
   "metadata": {
    "executionInfo": {
     "elapsed": 538,
     "status": "aborted",
     "timestamp": 1659872762647,
     "user": {
      "displayName": "",
      "userId": "15116209109810384742"
     },
     "user_tz": -330
    },
    "id": "7Z-bKZ1N7Giu"
   },
   "outputs": [
    {
     "data": {
      "text/plain": [
       "Text(0, 0.5, 'CE/token')"
      ]
     },
     "execution_count": 62,
     "metadata": {},
     "output_type": "execute_result"
    },
    {
     "data": {
      "image/png": "[encoded data removed]",
      "text/plain": [
       "<Figure size 432x288 with 1 Axes>"
      ]
     },
     "metadata": {
      "needs_background": "light"
     },
     "output_type": "display_data"
    }
   ],
   "source": [
    "plt.plot(batch_loss.logs)\n",
    "plt.ylim([0, 10])\n",
    "plt.xlabel('Batch #')\n",
    "plt.ylabel('CE/token')"
   ]
  },
  {
   "cell_type": "code",
   "execution_count": 53,
   "metadata": {
    "executionInfo": {
     "elapsed": 538,
     "status": "aborted",
     "timestamp": 1659872762648,
     "user": {
      "displayName": "",
      "userId": "15116209109810384742"
     },
     "user_tz": -330
    },
    "id": "Gi5uJTWp7chD"
   },
   "outputs": [],
   "source": [
    "class Replyer(tf.Module):\n",
    "\n",
    "  def __init__(self, encoder, decoder, input_text_processor):\n",
    "    self.encoder = encoder\n",
    "    self.decoder = decoder\n",
    "    self.input_text_processor = input_text_processor\n",
    "\n",
    "    self.output_token_string_from_index = (\n",
    "        tf.keras.layers.StringLookup(\n",
    "            vocabulary=input_text_processor.get_vocabulary(),\n",
    "            mask_token='',\n",
    "            invert=True\n",
    "        )\n",
    "    )\n",
    "\n",
    "    # The output should never generate padding, unknown, or start\n",
    "    index_from_string = tf.keras.layers.StringLookup(\n",
    "        vocabulary=input_text_processor.get_vocabulary(), mask_token=''\n",
    "    )\n",
    "    token_mask_ids = index_from_string(['', '[UNK]', '[START]']).numpy()\n",
    "\n",
    "    token_mask = np.zeros([index_from_string.vocabulary_size()], dtype=bool)\n",
    "    token_mask[np.array(token_mask_ids)] = True\n",
    "    self.token_mask = token_mask\n",
    "\n",
    "    self.start_token = index_from_string(tf.constant('[START]'))\n",
    "    self.end_token = index_from_string(tf.constant('[END]'))"
   ]
  },
  {
   "cell_type": "code",
   "execution_count": 54,
   "metadata": {
    "executionInfo": {
     "elapsed": 538,
     "status": "aborted",
     "timestamp": 1659872762648,
     "user": {
      "displayName": "",
      "userId": "15116209109810384742"
     },
     "user_tz": -330
    },
    "id": "4Mt8IcCD_xdf"
   },
   "outputs": [],
   "source": [
    "replyer = Replyer(\n",
    "    encoder=train_replyer.encoder,\n",
    "    decoder=train_replyer.decoder,\n",
    "    input_text_processor=input_text_processor\n",
    ")"
   ]
  },
  {
   "cell_type": "code",
   "execution_count": 64,
   "metadata": {
    "executionInfo": {
     "elapsed": 539,
     "status": "aborted",
     "timestamp": 1659872762649,
     "user": {
      "displayName": "",
      "userId": "15116209109810384742"
     },
     "user_tz": -330
    },
    "id": "_5uAItOuAoE5"
   },
   "outputs": [],
   "source": [
    "def tokens_to_text(self, result_tokens):\n",
    "  shape_checker = ShapeChecker()\n",
    "  shape_checker(result_tokens, ('batch', 't'))\n",
    "  result_text_tokens = self.output_token_string_from_index(result_tokens)\n",
    "  shape_checker(result_text_tokens, ('batch', 't'))\n",
    "\n",
    "  result_text = tf.strings.reduce_join(result_text_tokens,\n",
    "                                       axis=1, separator=' ')\n",
    "  shape_checker(result_text, ('batch'))\n",
    "\n",
    "  result_text = tf.strings.strip(result_text)\n",
    "  shape_checker(result_text, ('batch',))\n",
    "  return result_text"
   ]
  },
  {
   "cell_type": "code",
   "execution_count": 65,
   "metadata": {
    "executionInfo": {
     "elapsed": 538,
     "status": "aborted",
     "timestamp": 1659872762649,
     "user": {
      "displayName": "",
      "userId": "15116209109810384742"
     },
     "user_tz": -330
    },
    "id": "khAo1k3GCnpz"
   },
   "outputs": [],
   "source": [
    "Replyer.tokens_to_text = tokens_to_text"
   ]
  },
  {
   "cell_type": "code",
   "execution_count": 66,
   "metadata": {
    "executionInfo": {
     "elapsed": 538,
     "status": "aborted",
     "timestamp": 1659872762649,
     "user": {
      "displayName": "",
      "userId": "15116209109810384742"
     },
     "user_tz": -330
    },
    "id": "LCr8OrW1Cyto"
   },
   "outputs": [
    {
     "data": {
      "text/plain": [
       "array([b'emotions uncomfortable', b'scientists dying', b'dew families',\n",
       "       b'cook minister', b'hahaha access'], dtype=object)"
      ]
     },
     "execution_count": 66,
     "metadata": {},
     "output_type": "execute_result"
    }
   ],
   "source": [
    "example_output_tokens = tf.random.uniform(\n",
    "    shape=[5, 2], minval=0, dtype=tf.int64,\n",
    "    maxval=input_text_processor.vocabulary_size())\n",
    "replyer.tokens_to_text(example_output_tokens).numpy()"
   ]
  },
  {
   "cell_type": "code",
   "execution_count": 67,
   "metadata": {
    "executionInfo": {
     "elapsed": 539,
     "status": "aborted",
     "timestamp": 1659872762650,
     "user": {
      "displayName": "",
      "userId": "15116209109810384742"
     },
     "user_tz": -330
    },
    "id": "hQ3iAD0MDPaH"
   },
   "outputs": [],
   "source": [
    "def sample(self, logits, temperature):\n",
    "  shape_checker = ShapeChecker()\n",
    "  # 't' is usually 1 here\n",
    "  shape_checker(logits, ('batch', 't', 'vocab'))\n",
    "  shape_checker(self.token_mask, ('vocab',))\n",
    "\n",
    "  token_mask = self.token_mask[tf.newaxis, tf.newaxis, :]\n",
    "  shape_checker(token_mask, ('batch', 't', 'vocab'), broadcast=True)\n",
    "\n",
    "  # Set the logits for all masked tokens to -inf, so they are never chosen\n",
    "  logits = tf.where(self.token_mask, -np.inf, logits)\n",
    "\n",
    "  if temperature == 0.0:\n",
    "    new_tokens = tf.argmax(logits, axis=-1)\n",
    "  else:\n",
    "    logits = tf.squeeze(logits, axis=1)\n",
    "    new_tokens = tf.random.categorical(logits/temperature, num_samples=1)\n",
    "\n",
    "    shape_checker(new_tokens, ('batch', 't'))\n",
    "\n",
    "    return new_tokens "
   ]
  },
  {
   "cell_type": "code",
   "execution_count": 68,
   "metadata": {
    "id": "kawKtDxCK44e"
   },
   "outputs": [],
   "source": [
    "Replyer.sample = sample"
   ]
  },
  {
   "cell_type": "code",
   "execution_count": 85,
   "metadata": {
    "id": "1U6tUgYIK6yq"
   },
   "outputs": [],
   "source": [
    "def translate_unrolled(self,\n",
    "                       input_text, *,\n",
    "                       max_length=50,\n",
    "                       return_attention=True,\n",
    "                       temperature=1.0):\n",
    "  batch_size = tf.shape(input_text)[0]\n",
    "  input_tokens = self.input_text_processor(input_text)\n",
    "  enc_output, enc_state = self.encoder(input_tokens)\n",
    "\n",
    "  dec_state = enc_state\n",
    "  new_tokens = tf.fill([batch_size, 1], self.start_token)\n",
    "\n",
    "  result_tokens = []\n",
    "  attention = []\n",
    "  done = tf.zeros([batch_size, 1], dtype=tf.bool)\n",
    "\n",
    "  for _ in range(max_length):\n",
    "    dec_input = DecoderInput(new_tokens=new_tokens,\n",
    "                            enc_output=enc_output,\n",
    "                            mask=(input_tokens!=0))\n",
    "    \n",
    "    dec_result, dec_state = self.decoder(dec_input, state=dec_state)\n",
    "\n",
    "    attention.append(dec_result.attention_weights)\n",
    "\n",
    "    new_tokens = self.sample(dec_result.logits, temperature)\n",
    "\n",
    "    # If a sequence produces an `end_token`, set it `done`\n",
    "    done = done | (new_tokens == self.end_token)\n",
    "    # One a sequence is done it only produes 0-padding\n",
    "    new_tokens = tf.where(done, tf.constant(0, dtype=tf.int64), new_tokens)\n",
    "\n",
    "    # Collect the generated tokens\n",
    "    result_tokens.append(new_tokens)\n",
    "\n",
    "    if tf.executing_eagerly() and tf.reduce_all(done):\n",
    "      break\n",
    "  \n",
    "  # Convert the list of generated token IDs to a list of strings\n",
    "  result_tokens = tf.concat(result_tokens, axis=-1)\n",
    "  result_text = self.tokens_to_text(result_tokens)\n",
    "\n",
    "  if return_attention:\n",
    "    attention_stack = tf.concat(attention, axis=1)\n",
    "    return {'text': result_text, 'attention': attention_stack}\n",
    "  else:\n",
    "    return {'text': result_text}    \n",
    "  "
   ]
  },
  {
   "cell_type": "code",
   "execution_count": 86,
   "metadata": {
    "id": "tgdaw12IS5Gr"
   },
   "outputs": [],
   "source": [
    "Replyer.reply = translate_unrolled"
   ]
  },
  {
   "cell_type": "code",
   "execution_count": 107,
   "metadata": {
    "id": "6Nd31ZLqTGen"
   },
   "outputs": [
    {
     "name": "stdout",
     "output_type": "stream",
     "text": [
      "you ' re super cool , very fire ?\n",
      "\n",
      "if you ' re yelling about it is some expectations , god , i ' m tired\n",
      "\n"
     ]
    }
   ],
   "source": [
    "input_text = [tf.constant('It is a beautiful day.'), tf.constant('How are you doing today?')]\n",
    "result = replyer.reply(\n",
    "    input_text = input_text)\n",
    "\n",
    "print(result['text'][0].numpy().decode())\n",
    "print()\n",
    "print(result['text'][1].numpy().decode())\n",
    "print()"
   ]
  },
  {
   "cell_type": "code",
   "execution_count": 108,
   "metadata": {},
   "outputs": [],
   "source": [
    "@tf.function(input_signature=[tf.TensorSpec(dtype=tf.string, shape=[None])])\n",
    "def tf_reply(self, input_text):\n",
    "  return self.reply(input_text)\n",
    "\n",
    "Replyer.tf_reply = tf_reply"
   ]
  },
  {
   "cell_type": "code",
   "execution_count": 109,
   "metadata": {},
   "outputs": [
    {
     "name": "stdout",
     "output_type": "stream",
     "text": [
      "CPU times: total: 38.1 s\n",
      "Wall time: 41 s\n"
     ]
    }
   ],
   "source": [
    "%%time\n",
    "result = replyer.tf_reply(\n",
    "    input_text = input_text)"
   ]
  },
  {
   "cell_type": "code",
   "execution_count": 111,
   "metadata": {},
   "outputs": [
    {
     "name": "stdout",
     "output_type": "stream",
     "text": [
      "flower sorry you ' re not a stranger ? ! !\n",
      "please post me thank you\n",
      "\n",
      "CPU times: total: 219 ms\n",
      "Wall time: 186 ms\n"
     ]
    }
   ],
   "source": [
    "%%time\n",
    "result = replyer.tf_reply(\n",
    "    input_text = input_text)\n",
    "\n",
    "print(result['text'][0].numpy().decode())\n",
    "print(result['text'][1].numpy().decode())\n",
    "print()"
   ]
  },
  {
   "cell_type": "code",
   "execution_count": 112,
   "metadata": {},
   "outputs": [
    {
     "name": "stderr",
     "output_type": "stream",
     "text": [
      "WARNING:absl:Found untraced functions such as encoder_2_layer_call_fn, encoder_2_layer_call_and_return_conditional_losses, decoder_2_layer_call_fn, decoder_2_layer_call_and_return_conditional_losses, embedding_4_layer_call_fn while saving (showing 5 of 24). These functions will not be directly callable after loading.\n"
     ]
    },
    {
     "name": "stdout",
     "output_type": "stream",
     "text": [
      "INFO:tensorflow:Assets written to: replyer\\assets\n"
     ]
    },
    {
     "name": "stderr",
     "output_type": "stream",
     "text": [
      "INFO:tensorflow:Assets written to: replyer\\assets\n"
     ]
    }
   ],
   "source": [
    "tf.saved_model.save(replyer, 'replyer',\n",
    "                    signatures={'serving_default': replyer.tf_reply})"
   ]
  },
  {
   "cell_type": "code",
   "execution_count": 116,
   "metadata": {},
   "outputs": [],
   "source": [
    "def format_punctuation(s):\n",
    "    s = s.replace(' , ', ', ')\n",
    "    s = s.replace(' ! ', '!')\n",
    "    s = s.replace(' ? ', '?')\n",
    "    s = s.replace(\" ' \", \"'\")\n",
    "    return s"
   ]
  },
  {
   "cell_type": "code",
   "execution_count": 117,
   "metadata": {},
   "outputs": [
    {
     "name": "stdout",
     "output_type": "stream",
     "text": [
      "flower sorry you're not a stranger ?!!\n",
      "\n",
      "please post me thank you\n"
     ]
    }
   ],
   "source": [
    "print(format_punctuation(result['text'][0].numpy().decode()))\n",
    "print()\n",
    "print(format_punctuation(result['text'][1].numpy().decode()))"
   ]
  },
  {
   "cell_type": "code",
   "execution_count": 125,
   "metadata": {},
   "outputs": [
    {
     "name": "stdout",
     "output_type": "stream",
     "text": [
      "how bout pieces with mike!?\n"
     ]
    }
   ],
   "source": [
    "result = replyer.tf_reply(\n",
    "    input_text = [tf.constant(\"I love pizza\")])\n",
    "\n",
    "print(format_punctuation(result['text'][0].numpy().decode()))"
   ]
  },
  {
   "cell_type": "code",
   "execution_count": null,
   "metadata": {},
   "outputs": [],
   "source": []
  }
 ],
 "metadata": {
  "colab": {
   "authorship_tag": "ABX9TyMTZjdxhrDVRwWR10DvDARN",
   "collapsed_sections": [],
   "name": "chatbot_on_seq2seq.ipynb",
   "provenance": []
  },
  "kernelspec": {
   "display_name": "Python 3 (ipykernel)",
   "language": "python",
   "name": "python3"
  },
  "language_info": {
   "codemirror_mode": {
    "name": "ipython",
    "version": 3
   },
   "file_extension": ".py",
   "mimetype": "text/x-python",
   "name": "python",
   "nbconvert_exporter": "python",
   "pygments_lexer": "ipython3",
   "version": "3.10.5"
  }
 },
 "nbformat": 4,
 "nbformat_minor": 1
}
